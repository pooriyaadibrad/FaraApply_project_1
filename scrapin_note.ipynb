{
 "cells": [
  {
   "metadata": {},
   "cell_type": "markdown",
   "source": "# Web Elicitation Data",
   "id": "d72c989594daf6b"
  },
  {
   "metadata": {},
   "cell_type": "markdown",
   "source": "## import module",
   "id": "80bc7571e858033"
  },
  {
   "metadata": {
    "ExecuteTime": {
     "end_time": "2024-10-02T01:21:46.384648Z",
     "start_time": "2024-10-02T01:21:46.379533Z"
    }
   },
   "cell_type": "code",
   "source": [
    "from dotenv import load_dotenv\n",
    "from sqlalchemy import create_engine\n",
    "from sqlalchemy.orm import sessionmaker\n",
    "import os\n",
    "import requests\n",
    "import models\n",
    "import pandas as pd\n",
    "import datetime"
   ],
   "id": "577c85ba07cd4fbd",
   "outputs": [],
   "execution_count": 7
  },
  {
   "metadata": {},
   "cell_type": "markdown",
   "source": "#### access to environment variable",
   "id": "25e88de14ef7de8b"
  },
  {
   "metadata": {
    "ExecuteTime": {
     "end_time": "2024-10-02T01:21:46.401387Z",
     "start_time": "2024-10-02T01:21:46.396674Z"
    }
   },
   "cell_type": "code",
   "source": "load_dotenv()",
   "id": "14ffac8ccab8ba5d",
   "outputs": [
    {
     "data": {
      "text/plain": [
       "True"
      ]
     },
     "execution_count": 8,
     "metadata": {},
     "output_type": "execute_result"
    }
   ],
   "execution_count": 8
  },
  {
   "metadata": {},
   "cell_type": "markdown",
   "source": "## get api token for request to https://openweathermap.org/",
   "id": "8cfa27e29e92a40"
  },
  {
   "metadata": {
    "ExecuteTime": {
     "end_time": "2024-10-02T01:21:46.537790Z",
     "start_time": "2024-10-02T01:21:46.535978Z"
    }
   },
   "cell_type": "code",
   "source": "api_key = os.environ.get('API_KEY')",
   "id": "841639a6d790347d",
   "outputs": [],
   "execution_count": 9
  },
  {
   "metadata": {},
   "cell_type": "markdown",
   "source": "#### selected data with specific Latitude and Longitude",
   "id": "75fb38cde930d06e"
  },
  {
   "metadata": {
    "ExecuteTime": {
     "end_time": "2024-10-02T01:21:46.596159Z",
     "start_time": "2024-10-02T01:21:46.588435Z"
    }
   },
   "cell_type": "code",
   "source": [
    "lat_long = [(51.507351, -0.127758), (53.408371, -2.991573), (40.712776, -74.005974), (41.874316, -87.631724),\n",
    "            (38.893883, -77.044142), (43.686677, -79.392166), (49.243843, -123.112445), (35.689133, 51.389524),\n",
    "            (36.470552, 52.348881), (36.545611, 52.684186), (48.136583, 11.572022), (49.461167, 11.071938)]\n"
   ],
   "id": "1b4e4de21afb5e39",
   "outputs": [],
   "execution_count": 10
  },
  {
   "metadata": {},
   "cell_type": "markdown",
   "source": "### function for get data",
   "id": "84cbb218efe605d0"
  },
  {
   "metadata": {
    "ExecuteTime": {
     "end_time": "2024-10-02T01:21:46.653069Z",
     "start_time": "2024-10-02T01:21:46.645086Z"
    }
   },
   "cell_type": "code",
   "source": [
    "def request_api(lat_long_var):\n",
    "    \"\"\"\n",
    "    a tuple that carries Latitude and Longitude:param lat_long_var:tuple\n",
    "    a json that carries all data like weather , city , etc.:return: json\n",
    "    \"\"\"\n",
    "    return requests.get(\n",
    "        f'https://api.openweathermap.org/data/2.5/forecast?lat={lat_long_var[0]}&lon={lat_long_var[1]}&appid={api_key}')\n"
   ],
   "id": "18ade85727f66d51",
   "outputs": [],
   "execution_count": 11
  },
  {
   "metadata": {},
   "cell_type": "markdown",
   "source": "#### connection to data base",
   "id": "e399c125e5d2c789"
  },
  {
   "metadata": {
    "ExecuteTime": {
     "end_time": "2024-10-02T01:21:46.705992Z",
     "start_time": "2024-10-02T01:21:46.703273Z"
    }
   },
   "cell_type": "code",
   "source": "engine = create_engine(os.environ.get(\"DATABASE_URL\"))",
   "id": "590b11713527f5de",
   "outputs": [],
   "execution_count": 12
  },
  {
   "metadata": {},
   "cell_type": "markdown",
   "source": "#### interaction with database",
   "id": "b7dfd8981bfa5a91"
  },
  {
   "metadata": {
    "ExecuteTime": {
     "end_time": "2024-10-02T01:21:46.754602Z",
     "start_time": "2024-10-02T01:21:46.751634Z"
    }
   },
   "cell_type": "code",
   "source": [
    "Session = sessionmaker(bind=engine)\n",
    "session = Session()"
   ],
   "id": "f4ce367a0f7c2c48",
   "outputs": [],
   "execution_count": 13
  },
  {
   "metadata": {},
   "cell_type": "markdown",
   "source": [
    "#### this function registers weather data and city data\n",
    "####   in database and Builds a relationship with city and weather"
   ],
   "id": "483003bee1725bf1"
  },
  {
   "metadata": {
    "ExecuteTime": {
     "end_time": "2024-10-02T01:21:46.807676Z",
     "start_time": "2024-10-02T01:21:46.803741Z"
    }
   },
   "cell_type": "code",
   "source": [
    "def register_weather_data(data):\n",
    "    \"\"\"\n",
    "    this function registers weather data and city data\n",
    "    in database and Builds a relationship with city and weather\n",
    "\n",
    "    all data we are getting from open weather site:param data:json\n",
    "    message:return:string\n",
    "    \"\"\"\n",
    "    city = models.City(id=data['city']['id'], city_name=data['city']['name'],\n",
    "                       country=data['city']['country'],\n",
    "                       coord_lat=data['city']['coord']['lat'], coord_lon=data['city']['coord']['lon'])\n",
    "    \"\"\"register data in data base\"\"\"\n",
    "    condition = session.query(models.City).filter_by(id=data['city']['id']).first()\n",
    "    if not condition:\n",
    "        session.add(city)\n",
    "        session.commit()\n",
    "    else:\n",
    "        return 'this data be Register in past'\n",
    "\n",
    "    for forecast in data['list']:\n",
    "        weather = models.Weather(date=forecast['dt_txt'][0:10], time=forecast['dt_txt'][11:19],\n",
    "                                 temperature=forecast['main']['temp'],\n",
    "                                 humidity=forecast['main']['humidity'],\n",
    "                                 wind_speed=forecast['wind']['speed'], city_id=city.id)\n",
    "        \"\"\"register data in data base\"\"\"\n",
    "        session.add(weather)\n",
    "        session.commit()\n",
    "    \"\"\"close connection\"\"\"\n",
    "    session.close()\n",
    "    return 'data registered successfully'\n"
   ],
   "id": "284265e859e9019d",
   "outputs": [],
   "execution_count": 14
  },
  {
   "metadata": {},
   "cell_type": "markdown",
   "source": "### practical of project",
   "id": "cc4ab5f6403a3b49"
  },
  {
   "metadata": {
    "ExecuteTime": {
     "end_time": "2024-10-02T01:21:56.737512Z",
     "start_time": "2024-10-02T01:21:46.852765Z"
    }
   },
   "cell_type": "code",
   "source": [
    "for lat_long_step in lat_long:\n",
    "    while True:\n",
    "        response = request_api(lat_long_step)\n",
    "        if response.status_code == 200:\n",
    "            result = response.json()\n",
    "            print(register_weather_data(result))\n",
    "            break\n",
    "print('done')"
   ],
   "id": "9f1815ae3a76b304",
   "outputs": [
    {
     "name": "stdout",
     "output_type": "stream",
     "text": [
      "this data be Register in past\n",
      "this data be Register in past\n",
      "this data be Register in past\n",
      "this data be Register in past\n",
      "this data be Register in past\n",
      "this data be Register in past\n",
      "this data be Register in past\n",
      "this data be Register in past\n",
      "this data be Register in past\n",
      "this data be Register in past\n",
      "this data be Register in past\n",
      "this data be Register in past\n",
      "done\n"
     ]
    }
   ],
   "execution_count": 15
  },
  {
   "metadata": {},
   "cell_type": "markdown",
   "source": "# pandas",
   "id": "2c7d0de9841a2ccf"
  },
  {
   "metadata": {},
   "cell_type": "markdown",
   "source": "fetching cities data from data base",
   "id": "a32b14f7a9f44336"
  },
  {
   "metadata": {
    "ExecuteTime": {
     "end_time": "2024-10-02T01:21:56.747741Z",
     "start_time": "2024-10-02T01:21:56.744135Z"
    }
   },
   "cell_type": "code",
   "source": "cities = session.query(models.City).all()",
   "id": "650e1f348f6c23d4",
   "outputs": [],
   "execution_count": 16
  },
  {
   "metadata": {
    "ExecuteTime": {
     "end_time": "2024-10-02T01:21:56.804486Z",
     "start_time": "2024-10-02T01:21:56.797627Z"
    }
   },
   "cell_type": "code",
   "source": [
    "df = pd.DataFrame({\n",
    "                          'city_name': city.city_name,\n",
    "                          'country': city.country,\n",
    "                          'coord_lat': city.coord_lat,\n",
    "                          'coord_lon': city.coord_lon,\n",
    "                      } for city in cities\n",
    "                      )\n",
    "print(df)"
   ],
   "id": "1d7f34b62a0cfee4",
   "outputs": [
    {
     "name": "stdout",
     "output_type": "stream",
     "text": [
      "          city_name country  coord_lat  coord_lon\n",
      "0            London      GB    51.5074    -0.1278\n",
      "1         Liverpool      GB    53.4084    -2.9916\n",
      "2          New York      US    40.7128   -74.0060\n",
      "3           Chicago      US    41.8743   -87.6317\n",
      "4   Washington D.C.      US    38.8939   -77.0441\n",
      "5           Toronto      CA    43.6867   -79.3922\n",
      "6         Vancouver      CA    49.2438  -123.1124\n",
      "7            Tehran      IR    35.6891    51.3895\n",
      "8              Āmol      IR    36.4706    52.3489\n",
      "9             Babol      IR    36.5456    52.6842\n",
      "10         Altstadt      DE    48.1366    11.5720\n",
      "11        Nuremberg      DE    49.4612    11.0719\n"
     ]
    }
   ],
   "execution_count": 17
  },
  {
   "metadata": {},
   "cell_type": "markdown",
   "source": "### fetching cities data from data base",
   "id": "93343fa95f14e792"
  },
  {
   "metadata": {
    "ExecuteTime": {
     "end_time": "2024-10-02T01:24:08.026123Z",
     "start_time": "2024-10-02T01:24:08.019621Z"
    }
   },
   "cell_type": "code",
   "source": "weather_info = session.query(models.Weather).all()\n",
   "id": "2576e46a80526918",
   "outputs": [],
   "execution_count": 19
  },
  {
   "metadata": {},
   "cell_type": "markdown",
   "source": "this cacher for weekly info",
   "id": "5e8460d30a87d277"
  },
  {
   "metadata": {
    "ExecuteTime": {
     "end_time": "2024-10-02T01:24:15.303458Z",
     "start_time": "2024-10-02T01:24:15.301384Z"
    }
   },
   "cell_type": "code",
   "source": "all_weather_every_city=[]",
   "id": "b587eab8f5a71d2",
   "outputs": [],
   "execution_count": 21
  },
  {
   "metadata": {},
   "cell_type": "markdown",
   "source": "# 24h data",
   "id": "ebeee71a99986c93"
  },
  {
   "metadata": {
    "ExecuteTime": {
     "end_time": "2024-10-02T01:24:16.506872Z",
     "start_time": "2024-10-02T01:24:16.460249Z"
    }
   },
   "cell_type": "code",
   "source": [
    "    for city in cities:\n",
    "        df_1 = pd.DataFrame({\n",
    "                                'date': w.date,\n",
    "                                'time': w.time,\n",
    "                                'temperature': w.temperature,\n",
    "                                'humidity': w.humidity,\n",
    "                                'wind_speed': w.wind_speed,\n",
    "                                'city_name': city.city_name\n",
    "                            } for w in weather_info\n",
    "                            )\n",
    "        \"\"\" \n",
    "        with this query we can define want 24h data of every city\n",
    "        select_24h is only int data \n",
    "        \"\"\"\n",
    "        try:\n",
    "            select_24h = session.query(models.Weather).filter_by(date=str(datetime.date.today())).filter_by(\n",
    "                city_id=session.query(models.City).all()[0].id).all()\n",
    "        except ValueError:\n",
    "            print('in register city we have problem')\n",
    "            select_24h=0\n",
    "\n",
    "        print(df_1.head(len(select_24h)+1))\n",
    "        # with this code caching every cities data that fetching from database\n",
    "        all_weather_every_city.append(df_1)"
   ],
   "id": "3ffb738ddbc38a39",
   "outputs": [
    {
     "name": "stdout",
     "output_type": "stream",
     "text": [
      "         date      time  temperature  humidity  wind_speed city_name\n",
      "0  2024-10-02  03:00:00       286.25      91.0        4.24    London\n",
      "1  2024-10-02  06:00:00       286.22      93.0        2.93    London\n",
      "2  2024-10-02  09:00:00       287.22      84.0        4.80    London\n",
      "3  2024-10-02  12:00:00       287.92      79.0        3.75    London\n",
      "4  2024-10-02  15:00:00       288.38      74.0        4.70    London\n",
      "5  2024-10-02  18:00:00       286.39      77.0        5.32    London\n",
      "6  2024-10-02  21:00:00       285.70      70.0        4.77    London\n",
      "7  2024-10-03  00:00:00       285.42      65.0        4.29    London\n",
      "         date      time  temperature  humidity  wind_speed  city_name\n",
      "0  2024-10-02  03:00:00       286.25      91.0        4.24  Liverpool\n",
      "1  2024-10-02  06:00:00       286.22      93.0        2.93  Liverpool\n",
      "2  2024-10-02  09:00:00       287.22      84.0        4.80  Liverpool\n",
      "3  2024-10-02  12:00:00       287.92      79.0        3.75  Liverpool\n",
      "4  2024-10-02  15:00:00       288.38      74.0        4.70  Liverpool\n",
      "5  2024-10-02  18:00:00       286.39      77.0        5.32  Liverpool\n",
      "6  2024-10-02  21:00:00       285.70      70.0        4.77  Liverpool\n",
      "7  2024-10-03  00:00:00       285.42      65.0        4.29  Liverpool\n",
      "         date      time  temperature  humidity  wind_speed city_name\n",
      "0  2024-10-02  03:00:00       286.25      91.0        4.24  New York\n",
      "1  2024-10-02  06:00:00       286.22      93.0        2.93  New York\n",
      "2  2024-10-02  09:00:00       287.22      84.0        4.80  New York\n",
      "3  2024-10-02  12:00:00       287.92      79.0        3.75  New York\n",
      "4  2024-10-02  15:00:00       288.38      74.0        4.70  New York\n",
      "5  2024-10-02  18:00:00       286.39      77.0        5.32  New York\n",
      "6  2024-10-02  21:00:00       285.70      70.0        4.77  New York\n",
      "7  2024-10-03  00:00:00       285.42      65.0        4.29  New York\n",
      "         date      time  temperature  humidity  wind_speed city_name\n",
      "0  2024-10-02  03:00:00       286.25      91.0        4.24   Chicago\n",
      "1  2024-10-02  06:00:00       286.22      93.0        2.93   Chicago\n",
      "2  2024-10-02  09:00:00       287.22      84.0        4.80   Chicago\n",
      "3  2024-10-02  12:00:00       287.92      79.0        3.75   Chicago\n",
      "4  2024-10-02  15:00:00       288.38      74.0        4.70   Chicago\n",
      "5  2024-10-02  18:00:00       286.39      77.0        5.32   Chicago\n",
      "6  2024-10-02  21:00:00       285.70      70.0        4.77   Chicago\n",
      "7  2024-10-03  00:00:00       285.42      65.0        4.29   Chicago\n",
      "         date      time  temperature  humidity  wind_speed        city_name\n",
      "0  2024-10-02  03:00:00       286.25      91.0        4.24  Washington D.C.\n",
      "1  2024-10-02  06:00:00       286.22      93.0        2.93  Washington D.C.\n",
      "2  2024-10-02  09:00:00       287.22      84.0        4.80  Washington D.C.\n",
      "3  2024-10-02  12:00:00       287.92      79.0        3.75  Washington D.C.\n",
      "4  2024-10-02  15:00:00       288.38      74.0        4.70  Washington D.C.\n",
      "5  2024-10-02  18:00:00       286.39      77.0        5.32  Washington D.C.\n",
      "6  2024-10-02  21:00:00       285.70      70.0        4.77  Washington D.C.\n",
      "7  2024-10-03  00:00:00       285.42      65.0        4.29  Washington D.C.\n",
      "         date      time  temperature  humidity  wind_speed city_name\n",
      "0  2024-10-02  03:00:00       286.25      91.0        4.24   Toronto\n",
      "1  2024-10-02  06:00:00       286.22      93.0        2.93   Toronto\n",
      "2  2024-10-02  09:00:00       287.22      84.0        4.80   Toronto\n",
      "3  2024-10-02  12:00:00       287.92      79.0        3.75   Toronto\n",
      "4  2024-10-02  15:00:00       288.38      74.0        4.70   Toronto\n",
      "5  2024-10-02  18:00:00       286.39      77.0        5.32   Toronto\n",
      "6  2024-10-02  21:00:00       285.70      70.0        4.77   Toronto\n",
      "7  2024-10-03  00:00:00       285.42      65.0        4.29   Toronto\n",
      "         date      time  temperature  humidity  wind_speed  city_name\n",
      "0  2024-10-02  03:00:00       286.25      91.0        4.24  Vancouver\n",
      "1  2024-10-02  06:00:00       286.22      93.0        2.93  Vancouver\n",
      "2  2024-10-02  09:00:00       287.22      84.0        4.80  Vancouver\n",
      "3  2024-10-02  12:00:00       287.92      79.0        3.75  Vancouver\n",
      "4  2024-10-02  15:00:00       288.38      74.0        4.70  Vancouver\n",
      "5  2024-10-02  18:00:00       286.39      77.0        5.32  Vancouver\n",
      "6  2024-10-02  21:00:00       285.70      70.0        4.77  Vancouver\n",
      "7  2024-10-03  00:00:00       285.42      65.0        4.29  Vancouver\n",
      "         date      time  temperature  humidity  wind_speed city_name\n",
      "0  2024-10-02  03:00:00       286.25      91.0        4.24    Tehran\n",
      "1  2024-10-02  06:00:00       286.22      93.0        2.93    Tehran\n",
      "2  2024-10-02  09:00:00       287.22      84.0        4.80    Tehran\n",
      "3  2024-10-02  12:00:00       287.92      79.0        3.75    Tehran\n",
      "4  2024-10-02  15:00:00       288.38      74.0        4.70    Tehran\n",
      "5  2024-10-02  18:00:00       286.39      77.0        5.32    Tehran\n",
      "6  2024-10-02  21:00:00       285.70      70.0        4.77    Tehran\n",
      "7  2024-10-03  00:00:00       285.42      65.0        4.29    Tehran\n",
      "         date      time  temperature  humidity  wind_speed city_name\n",
      "0  2024-10-02  03:00:00       286.25      91.0        4.24      Āmol\n",
      "1  2024-10-02  06:00:00       286.22      93.0        2.93      Āmol\n",
      "2  2024-10-02  09:00:00       287.22      84.0        4.80      Āmol\n",
      "3  2024-10-02  12:00:00       287.92      79.0        3.75      Āmol\n",
      "4  2024-10-02  15:00:00       288.38      74.0        4.70      Āmol\n",
      "5  2024-10-02  18:00:00       286.39      77.0        5.32      Āmol\n",
      "6  2024-10-02  21:00:00       285.70      70.0        4.77      Āmol\n",
      "7  2024-10-03  00:00:00       285.42      65.0        4.29      Āmol\n",
      "         date      time  temperature  humidity  wind_speed city_name\n",
      "0  2024-10-02  03:00:00       286.25      91.0        4.24     Babol\n",
      "1  2024-10-02  06:00:00       286.22      93.0        2.93     Babol\n",
      "2  2024-10-02  09:00:00       287.22      84.0        4.80     Babol\n",
      "3  2024-10-02  12:00:00       287.92      79.0        3.75     Babol\n",
      "4  2024-10-02  15:00:00       288.38      74.0        4.70     Babol\n",
      "5  2024-10-02  18:00:00       286.39      77.0        5.32     Babol\n",
      "6  2024-10-02  21:00:00       285.70      70.0        4.77     Babol\n",
      "7  2024-10-03  00:00:00       285.42      65.0        4.29     Babol\n",
      "         date      time  temperature  humidity  wind_speed city_name\n",
      "0  2024-10-02  03:00:00       286.25      91.0        4.24  Altstadt\n",
      "1  2024-10-02  06:00:00       286.22      93.0        2.93  Altstadt\n",
      "2  2024-10-02  09:00:00       287.22      84.0        4.80  Altstadt\n",
      "3  2024-10-02  12:00:00       287.92      79.0        3.75  Altstadt\n",
      "4  2024-10-02  15:00:00       288.38      74.0        4.70  Altstadt\n",
      "5  2024-10-02  18:00:00       286.39      77.0        5.32  Altstadt\n",
      "6  2024-10-02  21:00:00       285.70      70.0        4.77  Altstadt\n",
      "7  2024-10-03  00:00:00       285.42      65.0        4.29  Altstadt\n",
      "         date      time  temperature  humidity  wind_speed  city_name\n",
      "0  2024-10-02  03:00:00       286.25      91.0        4.24  Nuremberg\n",
      "1  2024-10-02  06:00:00       286.22      93.0        2.93  Nuremberg\n",
      "2  2024-10-02  09:00:00       287.22      84.0        4.80  Nuremberg\n",
      "3  2024-10-02  12:00:00       287.92      79.0        3.75  Nuremberg\n",
      "4  2024-10-02  15:00:00       288.38      74.0        4.70  Nuremberg\n",
      "5  2024-10-02  18:00:00       286.39      77.0        5.32  Nuremberg\n",
      "6  2024-10-02  21:00:00       285.70      70.0        4.77  Nuremberg\n",
      "7  2024-10-03  00:00:00       285.42      65.0        4.29  Nuremberg\n"
     ]
    }
   ],
   "execution_count": 22
  },
  {
   "metadata": {},
   "cell_type": "markdown",
   "source": "## represent to us all weather information in database for every city",
   "id": "1a3b5ff00c9b70bb"
  },
  {
   "metadata": {
    "ExecuteTime": {
     "end_time": "2024-10-02T01:25:09.835761Z",
     "start_time": "2024-10-02T01:25:09.815394Z"
    }
   },
   "cell_type": "code",
   "source": [
    "    for w_1 in all_weather_every_city:\n",
    "        print(w_1)"
   ],
   "id": "20c6b94fe4efaa3e",
   "outputs": [
    {
     "name": "stdout",
     "output_type": "stream",
     "text": [
      "           date      time  temperature  humidity  wind_speed city_name\n",
      "0    2024-10-02  03:00:00       286.25      91.0        4.24    London\n",
      "1    2024-10-02  06:00:00       286.22      93.0        2.93    London\n",
      "2    2024-10-02  09:00:00       287.22      84.0        4.80    London\n",
      "3    2024-10-02  12:00:00       287.92      79.0        3.75    London\n",
      "4    2024-10-02  15:00:00       288.38      74.0        4.70    London\n",
      "..          ...       ...          ...       ...         ...       ...\n",
      "475  2024-10-06  12:00:00       287.59      56.0        3.23    London\n",
      "476  2024-10-06  15:00:00       286.33      63.0        3.03    London\n",
      "477  2024-10-06  18:00:00       282.43      79.0        1.63    London\n",
      "478  2024-10-06  21:00:00       282.34      80.0        1.94    London\n",
      "479  2024-10-07  00:00:00       280.59      90.0        2.11    London\n",
      "\n",
      "[480 rows x 6 columns]\n",
      "           date      time  temperature  humidity  wind_speed  city_name\n",
      "0    2024-10-02  03:00:00       286.25      91.0        4.24  Liverpool\n",
      "1    2024-10-02  06:00:00       286.22      93.0        2.93  Liverpool\n",
      "2    2024-10-02  09:00:00       287.22      84.0        4.80  Liverpool\n",
      "3    2024-10-02  12:00:00       287.92      79.0        3.75  Liverpool\n",
      "4    2024-10-02  15:00:00       288.38      74.0        4.70  Liverpool\n",
      "..          ...       ...          ...       ...         ...        ...\n",
      "475  2024-10-06  12:00:00       287.59      56.0        3.23  Liverpool\n",
      "476  2024-10-06  15:00:00       286.33      63.0        3.03  Liverpool\n",
      "477  2024-10-06  18:00:00       282.43      79.0        1.63  Liverpool\n",
      "478  2024-10-06  21:00:00       282.34      80.0        1.94  Liverpool\n",
      "479  2024-10-07  00:00:00       280.59      90.0        2.11  Liverpool\n",
      "\n",
      "[480 rows x 6 columns]\n",
      "           date      time  temperature  humidity  wind_speed city_name\n",
      "0    2024-10-02  03:00:00       286.25      91.0        4.24  New York\n",
      "1    2024-10-02  06:00:00       286.22      93.0        2.93  New York\n",
      "2    2024-10-02  09:00:00       287.22      84.0        4.80  New York\n",
      "3    2024-10-02  12:00:00       287.92      79.0        3.75  New York\n",
      "4    2024-10-02  15:00:00       288.38      74.0        4.70  New York\n",
      "..          ...       ...          ...       ...         ...       ...\n",
      "475  2024-10-06  12:00:00       287.59      56.0        3.23  New York\n",
      "476  2024-10-06  15:00:00       286.33      63.0        3.03  New York\n",
      "477  2024-10-06  18:00:00       282.43      79.0        1.63  New York\n",
      "478  2024-10-06  21:00:00       282.34      80.0        1.94  New York\n",
      "479  2024-10-07  00:00:00       280.59      90.0        2.11  New York\n",
      "\n",
      "[480 rows x 6 columns]\n",
      "           date      time  temperature  humidity  wind_speed city_name\n",
      "0    2024-10-02  03:00:00       286.25      91.0        4.24   Chicago\n",
      "1    2024-10-02  06:00:00       286.22      93.0        2.93   Chicago\n",
      "2    2024-10-02  09:00:00       287.22      84.0        4.80   Chicago\n",
      "3    2024-10-02  12:00:00       287.92      79.0        3.75   Chicago\n",
      "4    2024-10-02  15:00:00       288.38      74.0        4.70   Chicago\n",
      "..          ...       ...          ...       ...         ...       ...\n",
      "475  2024-10-06  12:00:00       287.59      56.0        3.23   Chicago\n",
      "476  2024-10-06  15:00:00       286.33      63.0        3.03   Chicago\n",
      "477  2024-10-06  18:00:00       282.43      79.0        1.63   Chicago\n",
      "478  2024-10-06  21:00:00       282.34      80.0        1.94   Chicago\n",
      "479  2024-10-07  00:00:00       280.59      90.0        2.11   Chicago\n",
      "\n",
      "[480 rows x 6 columns]\n",
      "           date      time  temperature  humidity  wind_speed        city_name\n",
      "0    2024-10-02  03:00:00       286.25      91.0        4.24  Washington D.C.\n",
      "1    2024-10-02  06:00:00       286.22      93.0        2.93  Washington D.C.\n",
      "2    2024-10-02  09:00:00       287.22      84.0        4.80  Washington D.C.\n",
      "3    2024-10-02  12:00:00       287.92      79.0        3.75  Washington D.C.\n",
      "4    2024-10-02  15:00:00       288.38      74.0        4.70  Washington D.C.\n",
      "..          ...       ...          ...       ...         ...              ...\n",
      "475  2024-10-06  12:00:00       287.59      56.0        3.23  Washington D.C.\n",
      "476  2024-10-06  15:00:00       286.33      63.0        3.03  Washington D.C.\n",
      "477  2024-10-06  18:00:00       282.43      79.0        1.63  Washington D.C.\n",
      "478  2024-10-06  21:00:00       282.34      80.0        1.94  Washington D.C.\n",
      "479  2024-10-07  00:00:00       280.59      90.0        2.11  Washington D.C.\n",
      "\n",
      "[480 rows x 6 columns]\n",
      "           date      time  temperature  humidity  wind_speed city_name\n",
      "0    2024-10-02  03:00:00       286.25      91.0        4.24   Toronto\n",
      "1    2024-10-02  06:00:00       286.22      93.0        2.93   Toronto\n",
      "2    2024-10-02  09:00:00       287.22      84.0        4.80   Toronto\n",
      "3    2024-10-02  12:00:00       287.92      79.0        3.75   Toronto\n",
      "4    2024-10-02  15:00:00       288.38      74.0        4.70   Toronto\n",
      "..          ...       ...          ...       ...         ...       ...\n",
      "475  2024-10-06  12:00:00       287.59      56.0        3.23   Toronto\n",
      "476  2024-10-06  15:00:00       286.33      63.0        3.03   Toronto\n",
      "477  2024-10-06  18:00:00       282.43      79.0        1.63   Toronto\n",
      "478  2024-10-06  21:00:00       282.34      80.0        1.94   Toronto\n",
      "479  2024-10-07  00:00:00       280.59      90.0        2.11   Toronto\n",
      "\n",
      "[480 rows x 6 columns]\n",
      "           date      time  temperature  humidity  wind_speed  city_name\n",
      "0    2024-10-02  03:00:00       286.25      91.0        4.24  Vancouver\n",
      "1    2024-10-02  06:00:00       286.22      93.0        2.93  Vancouver\n",
      "2    2024-10-02  09:00:00       287.22      84.0        4.80  Vancouver\n",
      "3    2024-10-02  12:00:00       287.92      79.0        3.75  Vancouver\n",
      "4    2024-10-02  15:00:00       288.38      74.0        4.70  Vancouver\n",
      "..          ...       ...          ...       ...         ...        ...\n",
      "475  2024-10-06  12:00:00       287.59      56.0        3.23  Vancouver\n",
      "476  2024-10-06  15:00:00       286.33      63.0        3.03  Vancouver\n",
      "477  2024-10-06  18:00:00       282.43      79.0        1.63  Vancouver\n",
      "478  2024-10-06  21:00:00       282.34      80.0        1.94  Vancouver\n",
      "479  2024-10-07  00:00:00       280.59      90.0        2.11  Vancouver\n",
      "\n",
      "[480 rows x 6 columns]\n",
      "           date      time  temperature  humidity  wind_speed city_name\n",
      "0    2024-10-02  03:00:00       286.25      91.0        4.24    Tehran\n",
      "1    2024-10-02  06:00:00       286.22      93.0        2.93    Tehran\n",
      "2    2024-10-02  09:00:00       287.22      84.0        4.80    Tehran\n",
      "3    2024-10-02  12:00:00       287.92      79.0        3.75    Tehran\n",
      "4    2024-10-02  15:00:00       288.38      74.0        4.70    Tehran\n",
      "..          ...       ...          ...       ...         ...       ...\n",
      "475  2024-10-06  12:00:00       287.59      56.0        3.23    Tehran\n",
      "476  2024-10-06  15:00:00       286.33      63.0        3.03    Tehran\n",
      "477  2024-10-06  18:00:00       282.43      79.0        1.63    Tehran\n",
      "478  2024-10-06  21:00:00       282.34      80.0        1.94    Tehran\n",
      "479  2024-10-07  00:00:00       280.59      90.0        2.11    Tehran\n",
      "\n",
      "[480 rows x 6 columns]\n",
      "           date      time  temperature  humidity  wind_speed city_name\n",
      "0    2024-10-02  03:00:00       286.25      91.0        4.24      Āmol\n",
      "1    2024-10-02  06:00:00       286.22      93.0        2.93      Āmol\n",
      "2    2024-10-02  09:00:00       287.22      84.0        4.80      Āmol\n",
      "3    2024-10-02  12:00:00       287.92      79.0        3.75      Āmol\n",
      "4    2024-10-02  15:00:00       288.38      74.0        4.70      Āmol\n",
      "..          ...       ...          ...       ...         ...       ...\n",
      "475  2024-10-06  12:00:00       287.59      56.0        3.23      Āmol\n",
      "476  2024-10-06  15:00:00       286.33      63.0        3.03      Āmol\n",
      "477  2024-10-06  18:00:00       282.43      79.0        1.63      Āmol\n",
      "478  2024-10-06  21:00:00       282.34      80.0        1.94      Āmol\n",
      "479  2024-10-07  00:00:00       280.59      90.0        2.11      Āmol\n",
      "\n",
      "[480 rows x 6 columns]\n",
      "           date      time  temperature  humidity  wind_speed city_name\n",
      "0    2024-10-02  03:00:00       286.25      91.0        4.24     Babol\n",
      "1    2024-10-02  06:00:00       286.22      93.0        2.93     Babol\n",
      "2    2024-10-02  09:00:00       287.22      84.0        4.80     Babol\n",
      "3    2024-10-02  12:00:00       287.92      79.0        3.75     Babol\n",
      "4    2024-10-02  15:00:00       288.38      74.0        4.70     Babol\n",
      "..          ...       ...          ...       ...         ...       ...\n",
      "475  2024-10-06  12:00:00       287.59      56.0        3.23     Babol\n",
      "476  2024-10-06  15:00:00       286.33      63.0        3.03     Babol\n",
      "477  2024-10-06  18:00:00       282.43      79.0        1.63     Babol\n",
      "478  2024-10-06  21:00:00       282.34      80.0        1.94     Babol\n",
      "479  2024-10-07  00:00:00       280.59      90.0        2.11     Babol\n",
      "\n",
      "[480 rows x 6 columns]\n",
      "           date      time  temperature  humidity  wind_speed city_name\n",
      "0    2024-10-02  03:00:00       286.25      91.0        4.24  Altstadt\n",
      "1    2024-10-02  06:00:00       286.22      93.0        2.93  Altstadt\n",
      "2    2024-10-02  09:00:00       287.22      84.0        4.80  Altstadt\n",
      "3    2024-10-02  12:00:00       287.92      79.0        3.75  Altstadt\n",
      "4    2024-10-02  15:00:00       288.38      74.0        4.70  Altstadt\n",
      "..          ...       ...          ...       ...         ...       ...\n",
      "475  2024-10-06  12:00:00       287.59      56.0        3.23  Altstadt\n",
      "476  2024-10-06  15:00:00       286.33      63.0        3.03  Altstadt\n",
      "477  2024-10-06  18:00:00       282.43      79.0        1.63  Altstadt\n",
      "478  2024-10-06  21:00:00       282.34      80.0        1.94  Altstadt\n",
      "479  2024-10-07  00:00:00       280.59      90.0        2.11  Altstadt\n",
      "\n",
      "[480 rows x 6 columns]\n",
      "           date      time  temperature  humidity  wind_speed  city_name\n",
      "0    2024-10-02  03:00:00       286.25      91.0        4.24  Nuremberg\n",
      "1    2024-10-02  06:00:00       286.22      93.0        2.93  Nuremberg\n",
      "2    2024-10-02  09:00:00       287.22      84.0        4.80  Nuremberg\n",
      "3    2024-10-02  12:00:00       287.92      79.0        3.75  Nuremberg\n",
      "4    2024-10-02  15:00:00       288.38      74.0        4.70  Nuremberg\n",
      "..          ...       ...          ...       ...         ...        ...\n",
      "475  2024-10-06  12:00:00       287.59      56.0        3.23  Nuremberg\n",
      "476  2024-10-06  15:00:00       286.33      63.0        3.03  Nuremberg\n",
      "477  2024-10-06  18:00:00       282.43      79.0        1.63  Nuremberg\n",
      "478  2024-10-06  21:00:00       282.34      80.0        1.94  Nuremberg\n",
      "479  2024-10-07  00:00:00       280.59      90.0        2.11  Nuremberg\n",
      "\n",
      "[480 rows x 6 columns]\n"
     ]
    }
   ],
   "execution_count": 25
  }
 ],
 "metadata": {
  "kernelspec": {
   "display_name": "Python 3",
   "language": "python",
   "name": "python3"
  },
  "language_info": {
   "codemirror_mode": {
    "name": "ipython",
    "version": 2
   },
   "file_extension": ".py",
   "mimetype": "text/x-python",
   "name": "python",
   "nbconvert_exporter": "python",
   "pygments_lexer": "ipython2",
   "version": "2.7.6"
  }
 },
 "nbformat": 4,
 "nbformat_minor": 5
}
