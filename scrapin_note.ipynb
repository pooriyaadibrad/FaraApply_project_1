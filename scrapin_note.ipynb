{
 "cells": [
  {
   "metadata": {},
   "cell_type": "markdown",
   "source": "# Web Elicitation Data",
   "id": "d72c989594daf6b"
  },
  {
   "metadata": {},
   "cell_type": "markdown",
   "source": "## import module",
   "id": "80bc7571e858033"
  },
  {
   "metadata": {
    "ExecuteTime": {
     "end_time": "2024-09-30T23:29:41.034067Z",
     "start_time": "2024-09-30T23:29:40.946411Z"
    }
   },
   "cell_type": "code",
   "source": [
    "from dotenv import load_dotenv\n",
    "from sqlalchemy import create_engine\n",
    "from sqlalchemy.orm import sessionmaker\n",
    "import os\n",
    "import requests\n",
    "import models"
   ],
   "id": "577c85ba07cd4fbd",
   "outputs": [],
   "execution_count": 2
  },
  {
   "metadata": {},
   "cell_type": "markdown",
   "source": "#### access to environment variable",
   "id": "25e88de14ef7de8b"
  },
  {
   "metadata": {
    "ExecuteTime": {
     "end_time": "2024-09-30T23:30:16.690343Z",
     "start_time": "2024-09-30T23:30:16.684445Z"
    }
   },
   "cell_type": "code",
   "source": "load_dotenv()",
   "id": "14ffac8ccab8ba5d",
   "outputs": [
    {
     "data": {
      "text/plain": [
       "True"
      ]
     },
     "execution_count": 3,
     "metadata": {},
     "output_type": "execute_result"
    }
   ],
   "execution_count": 3
  },
  {
   "metadata": {},
   "cell_type": "markdown",
   "source": "## get api token for request to https://openweathermap.org/",
   "id": "8cfa27e29e92a40"
  },
  {
   "metadata": {
    "ExecuteTime": {
     "end_time": "2024-09-30T23:30:48.784741Z",
     "start_time": "2024-09-30T23:30:48.782579Z"
    }
   },
   "cell_type": "code",
   "source": "api_key = os.environ.get('API_KEY')",
   "id": "841639a6d790347d",
   "outputs": [],
   "execution_count": 4
  },
  {
   "metadata": {},
   "cell_type": "markdown",
   "source": "#### selected data with specific Latitude and Longitude",
   "id": "75fb38cde930d06e"
  },
  {
   "metadata": {
    "ExecuteTime": {
     "end_time": "2024-09-30T23:31:35.858379Z",
     "start_time": "2024-09-30T23:31:35.855791Z"
    }
   },
   "cell_type": "code",
   "source": [
    "lat_long = [(51.507351, -0.127758), (53.408371, -2.991573), (40.712776, -74.005974), (41.874316, -87.631724),\n",
    "            (38.893883, -77.044142), (43.686677, -79.392166), (49.243843, -123.112445), (35.689133, 51.389524),\n",
    "            (36.470552, 52.348881), (36.545611, 52.684186), (48.136583, 11.572022), (49.461167, 11.071938)]\n"
   ],
   "id": "1b4e4de21afb5e39",
   "outputs": [],
   "execution_count": 5
  },
  {
   "metadata": {},
   "cell_type": "markdown",
   "source": "### function for get data",
   "id": "84cbb218efe605d0"
  },
  {
   "metadata": {
    "ExecuteTime": {
     "end_time": "2024-09-30T23:32:00.800887Z",
     "start_time": "2024-09-30T23:32:00.796948Z"
    }
   },
   "cell_type": "code",
   "source": [
    "def request_api(lat_long_var):\n",
    "    \"\"\"\n",
    "    a tuple that carries Latitude and Longitude:param lat_long_var:tuple\n",
    "    a json that carries all data like weather , city , etc.:return: json\n",
    "    \"\"\"\n",
    "    return requests.get(\n",
    "        f'https://api.openweathermap.org/data/2.5/forecast?lat={lat_long_var[0]}&lon={lat_long_var[1]}&appid={api_key}')\n"
   ],
   "id": "18ade85727f66d51",
   "outputs": [],
   "execution_count": 6
  },
  {
   "metadata": {},
   "cell_type": "markdown",
   "source": "#### connection to data base",
   "id": "e399c125e5d2c789"
  },
  {
   "metadata": {},
   "cell_type": "code",
   "outputs": [],
   "execution_count": null,
   "source": "engine = create_engine(os.environ.get(\"DATABASE_URL\"))",
   "id": "590b11713527f5de"
  },
  {
   "metadata": {},
   "cell_type": "markdown",
   "source": "#### interaction with database",
   "id": "b7dfd8981bfa5a91"
  },
  {
   "metadata": {},
   "cell_type": "code",
   "outputs": [],
   "execution_count": null,
   "source": [
    "Session = sessionmaker(bind=engine)\n",
    "session = Session()"
   ],
   "id": "f4ce367a0f7c2c48"
  },
  {
   "metadata": {},
   "cell_type": "markdown",
   "source": [
    "#### this function registers weather data and city data\n",
    "####   in database and Builds a relationship with city and weather"
   ],
   "id": "483003bee1725bf1"
  },
  {
   "metadata": {},
   "cell_type": "code",
   "outputs": [],
   "execution_count": null,
   "source": [
    "def register_weather_data(data):\n",
    "    \"\"\"\n",
    "    this function registers weather data and city data\n",
    "    in database and Builds a relationship with city and weather\n",
    "\n",
    "    all data we are getting from open weather site:param data:json\n",
    "    message:return:string\n",
    "    \"\"\"\n",
    "    city = models.City(id=data['city']['id'], city_name=data['city']['name'],\n",
    "                       country=data['city']['country'],\n",
    "                       coord_lat=data['city']['coord']['lat'], coord_lon=data['city']['coord']['lon'])\n",
    "    \"\"\"register data in data base\"\"\"\n",
    "    condition = session.query(models.City).filter_by(id=data['city']['id']).first()\n",
    "    if not condition:\n",
    "        session.add(city)\n",
    "        session.commit()\n",
    "    else:\n",
    "        return 'this data be Register in past'\n",
    "\n",
    "    for forecast in data['list']:\n",
    "        weather = models.Weather(date=forecast['dt_txt'][0:10], time=forecast['dt_txt'][11:19],\n",
    "                                 temperature=forecast['main']['temp'],\n",
    "                                 humidity=forecast['main']['humidity'],\n",
    "                                 wind_speed=forecast['wind']['speed'], city_id=city.id)\n",
    "        \"\"\"register data in data base\"\"\"\n",
    "        session.add(weather)\n",
    "        session.commit()\n",
    "    \"\"\"close connection\"\"\"\n",
    "    session.close()\n",
    "    return 'data registered successfully'\n"
   ],
   "id": "284265e859e9019d"
  },
  {
   "metadata": {},
   "cell_type": "markdown",
   "source": "### practical of project",
   "id": "cc4ab5f6403a3b49"
  },
  {
   "metadata": {},
   "cell_type": "code",
   "outputs": [],
   "execution_count": null,
   "source": [
    "for lat_long_step in lat_long:\n",
    "    while True:\n",
    "        response = request_api(lat_long_step)\n",
    "        if response.status_code == 200:\n",
    "            result = response.json()\n",
    "            print(register_weather_data(result))\n",
    "            break\n",
    "print('done')"
   ],
   "id": "9f1815ae3a76b304"
  }
 ],
 "metadata": {
  "kernelspec": {
   "display_name": "Python 3",
   "language": "python",
   "name": "python3"
  },
  "language_info": {
   "codemirror_mode": {
    "name": "ipython",
    "version": 2
   },
   "file_extension": ".py",
   "mimetype": "text/x-python",
   "name": "python",
   "nbconvert_exporter": "python",
   "pygments_lexer": "ipython2",
   "version": "2.7.6"
  }
 },
 "nbformat": 4,
 "nbformat_minor": 5
}
